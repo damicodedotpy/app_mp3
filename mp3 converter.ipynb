{
 "cells": [
  {
   "cell_type": "markdown",
   "id": "a6445c23",
   "metadata": {
    "toc": true
   },
   "source": [
    "<h1>Table of Contents<span class=\"tocSkip\"></span></h1>\n",
    "<div class=\"toc\"><ul class=\"toc-item\"></ul></div>"
   ]
  },
  {
   "cell_type": "code",
   "execution_count": 1,
   "id": "ff049861",
   "metadata": {},
   "outputs": [],
   "source": [
    "from pydub import AudioSegment\n",
    "\n",
    "# Especifica las rutas a ffmpeg y ffprobe\n",
    "AudioSegment.converter = \"/opt/homebrew/Cellar/ffmpeg/6.0_1/bin/ffmpeg\"\n",
    "AudioSegment.ffprobe = \"/opt/homebrew/Cellar/ffmpeg/6.0_1/bin/ffprobe\"\n",
    "\n",
    "def convertWavToMp3(wavFile, mp3File):\n",
    "    '''Esta funcion convierte archivos\n",
    "    .wav a .mp3'''\n",
    "    \n",
    "    audio = AudioSegment.from_wav(wavFile)\n",
    "    audio.export(mp3File, format=\"mp3\")\n",
    "    \n",
    "# Ubicancion actual del archivo .wav a convertir\n",
    "wavLocation = \"/Users/noble/Documents/damicode/apps/app_mp3/mis_detalles.wav\"\n",
    "\n",
    "# Ubicacion deseada del archivo .mp3 de salida\n",
    "mp3Destination = \"/Users/noble/Documents/damicode/apps/app_mp3/mis_detalles.mp3\"\n",
    "\n",
    "convertWavToMp3(wavLocation, mp3Destination)"
   ]
  },
  {
   "cell_type": "code",
   "execution_count": null,
   "id": "d778a61d",
   "metadata": {},
   "outputs": [],
   "source": []
  },
  {
   "cell_type": "code",
   "execution_count": null,
   "id": "9a59d4ae",
   "metadata": {},
   "outputs": [],
   "source": []
  }
 ],
 "metadata": {
  "kernelspec": {
   "display_name": "Python 3 (ipykernel)",
   "language": "python",
   "name": "python3"
  },
  "language_info": {
   "codemirror_mode": {
    "name": "ipython",
    "version": 3
   },
   "file_extension": ".py",
   "mimetype": "text/x-python",
   "name": "python",
   "nbconvert_exporter": "python",
   "pygments_lexer": "ipython3",
   "version": "3.10.0"
  },
  "toc": {
   "base_numbering": 1,
   "nav_menu": {},
   "number_sections": true,
   "sideBar": false,
   "skip_h1_title": false,
   "title_cell": "Table of Contents",
   "title_sidebar": "Contents",
   "toc_cell": true,
   "toc_position": {},
   "toc_section_display": true,
   "toc_window_display": false
  },
  "varInspector": {
   "cols": {
    "lenName": 16,
    "lenType": 16,
    "lenVar": 40
   },
   "kernels_config": {
    "python": {
     "delete_cmd_postfix": "",
     "delete_cmd_prefix": "del ",
     "library": "var_list.py",
     "varRefreshCmd": "print(var_dic_list())"
    },
    "r": {
     "delete_cmd_postfix": ") ",
     "delete_cmd_prefix": "rm(",
     "library": "var_list.r",
     "varRefreshCmd": "cat(var_dic_list()) "
    }
   },
   "types_to_exclude": [
    "module",
    "function",
    "builtin_function_or_method",
    "instance",
    "_Feature"
   ],
   "window_display": false
  }
 },
 "nbformat": 4,
 "nbformat_minor": 5
}
